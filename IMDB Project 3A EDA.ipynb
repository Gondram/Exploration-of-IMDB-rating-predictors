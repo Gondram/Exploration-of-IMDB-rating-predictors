{
 "cells": [
  {
   "cell_type": "markdown",
   "id": "0efbf130-0086-48d0-94ce-66ec98b274dd",
   "metadata": {},
   "source": [
    "# IMDB Project 3A EDA\n",
    "-David Atkins"
   ]
  },
  {
   "cell_type": "markdown",
   "id": "27d6c12d-d20f-4981-a678-5ca6f9795ef4",
   "metadata": {},
   "source": [
    "### Setup"
   ]
  },
  {
   "cell_type": "code",
   "execution_count": 146,
   "id": "6df7ddc2-3601-4dee-8a53-008b00cbd3c1",
   "metadata": {},
   "outputs": [],
   "source": [
    "import seaborn as sns\n",
    "import numpy as np\n",
    "import matplotlib.pyplot as plt\n",
    "from matplotlib.ticker import PercentFormatter, MultipleLocator\n",
    "import glob\n",
    "import pandas as pd\n",
    "pd.set_option('display.max_columns',100)\n",
    "import warnings\n",
    "warnings.simplefilter(action='ignore', category=FutureWarning)"
   ]
  },
  {
   "cell_type": "code",
   "execution_count": 147,
   "id": "ddc3921d-211a-4a49-8e71-e4e9a32d39a2",
   "metadata": {},
   "outputs": [
    {
     "data": {
      "text/plain": [
       "['Data\\\\final_tmdb_data_2001.csv.gz', 'Data\\\\final_tmdb_data_2002.csv.gz']"
      ]
     },
     "execution_count": 147,
     "metadata": {},
     "output_type": "execute_result"
    }
   ],
   "source": [
    "# Use glob to get all filepaths that match the pattern (*=wildcard)\n",
    "tmdb_files = sorted(glob.glob(\"Data/final_tmdb_data*.csv.gz\"))\n",
    "tmdb_files"
   ]
  },
  {
   "cell_type": "code",
   "execution_count": 148,
   "id": "b9f3dfc8-f79f-4182-befe-74c336c788fe",
   "metadata": {},
   "outputs": [
    {
     "data": {
      "text/html": [
       "<div>\n",
       "<style scoped>\n",
       "    .dataframe tbody tr th:only-of-type {\n",
       "        vertical-align: middle;\n",
       "    }\n",
       "\n",
       "    .dataframe tbody tr th {\n",
       "        vertical-align: top;\n",
       "    }\n",
       "\n",
       "    .dataframe thead th {\n",
       "        text-align: right;\n",
       "    }\n",
       "</style>\n",
       "<table border=\"1\" class=\"dataframe\">\n",
       "  <thead>\n",
       "    <tr style=\"text-align: right;\">\n",
       "      <th></th>\n",
       "      <th>imdb_id</th>\n",
       "      <th>adult</th>\n",
       "      <th>backdrop_path</th>\n",
       "      <th>belongs_to_collection</th>\n",
       "      <th>budget</th>\n",
       "      <th>genres</th>\n",
       "      <th>homepage</th>\n",
       "      <th>id</th>\n",
       "      <th>original_language</th>\n",
       "      <th>original_title</th>\n",
       "      <th>overview</th>\n",
       "      <th>popularity</th>\n",
       "      <th>poster_path</th>\n",
       "      <th>production_companies</th>\n",
       "      <th>production_countries</th>\n",
       "      <th>release_date</th>\n",
       "      <th>revenue</th>\n",
       "      <th>runtime</th>\n",
       "      <th>spoken_languages</th>\n",
       "      <th>status</th>\n",
       "      <th>tagline</th>\n",
       "      <th>title</th>\n",
       "      <th>video</th>\n",
       "      <th>vote_average</th>\n",
       "      <th>vote_count</th>\n",
       "      <th>certification</th>\n",
       "    </tr>\n",
       "  </thead>\n",
       "  <tbody>\n",
       "    <tr>\n",
       "      <th>0</th>\n",
       "      <td>0</td>\n",
       "      <td>NaN</td>\n",
       "      <td>NaN</td>\n",
       "      <td>NaN</td>\n",
       "      <td>NaN</td>\n",
       "      <td>NaN</td>\n",
       "      <td>NaN</td>\n",
       "      <td>NaN</td>\n",
       "      <td>NaN</td>\n",
       "      <td>NaN</td>\n",
       "      <td>NaN</td>\n",
       "      <td>NaN</td>\n",
       "      <td>NaN</td>\n",
       "      <td>NaN</td>\n",
       "      <td>NaN</td>\n",
       "      <td>NaN</td>\n",
       "      <td>NaN</td>\n",
       "      <td>NaN</td>\n",
       "      <td>NaN</td>\n",
       "      <td>NaN</td>\n",
       "      <td>NaN</td>\n",
       "      <td>NaN</td>\n",
       "      <td>NaN</td>\n",
       "      <td>NaN</td>\n",
       "      <td>NaN</td>\n",
       "      <td>NaN</td>\n",
       "    </tr>\n",
       "    <tr>\n",
       "      <th>1</th>\n",
       "      <td>tt0035423</td>\n",
       "      <td>0.0</td>\n",
       "      <td>/tJLV3BAlHOgscVOrA99Wnb2gAef.jpg</td>\n",
       "      <td>NaN</td>\n",
       "      <td>48000000.0</td>\n",
       "      <td>[{'id': 10749, 'name': 'Romance'}, {'id': 14, ...</td>\n",
       "      <td>NaN</td>\n",
       "      <td>11232.0</td>\n",
       "      <td>en</td>\n",
       "      <td>Kate &amp; Leopold</td>\n",
       "      <td>When her scientist ex-boyfriend discovers a po...</td>\n",
       "      <td>12.705</td>\n",
       "      <td>/mUvikzKJJSg9khrVdxK8kg3TMHA.jpg</td>\n",
       "      <td>[{'id': 85, 'logo_path': None, 'name': 'Konrad...</td>\n",
       "      <td>[{'iso_3166_1': 'US', 'name': 'United States o...</td>\n",
       "      <td>2001-12-25</td>\n",
       "      <td>76019048.0</td>\n",
       "      <td>118.0</td>\n",
       "      <td>[{'english_name': 'French', 'iso_639_1': 'fr',...</td>\n",
       "      <td>Released</td>\n",
       "      <td>If they lived in the same century, they'd be p...</td>\n",
       "      <td>Kate &amp; Leopold</td>\n",
       "      <td>0.0</td>\n",
       "      <td>6.325</td>\n",
       "      <td>1234.0</td>\n",
       "      <td>PG-13</td>\n",
       "    </tr>\n",
       "    <tr>\n",
       "      <th>2</th>\n",
       "      <td>tt0114447</td>\n",
       "      <td>0.0</td>\n",
       "      <td>NaN</td>\n",
       "      <td>NaN</td>\n",
       "      <td>0.0</td>\n",
       "      <td>[{'id': 53, 'name': 'Thriller'}, {'id': 28, 'n...</td>\n",
       "      <td>NaN</td>\n",
       "      <td>151007.0</td>\n",
       "      <td>en</td>\n",
       "      <td>The Silent Force</td>\n",
       "      <td>An elite Federal force whose objective is to e...</td>\n",
       "      <td>3.773</td>\n",
       "      <td>/u0njmfXD3dXxQfeykBHBuFQOYqD.jpg</td>\n",
       "      <td>[]</td>\n",
       "      <td>[]</td>\n",
       "      <td>2001-01-01</td>\n",
       "      <td>0.0</td>\n",
       "      <td>90.0</td>\n",
       "      <td>[{'english_name': 'English', 'iso_639_1': 'en'...</td>\n",
       "      <td>Released</td>\n",
       "      <td>They left him for dead... They should have fin...</td>\n",
       "      <td>The Silent Force</td>\n",
       "      <td>0.0</td>\n",
       "      <td>5.000</td>\n",
       "      <td>3.0</td>\n",
       "      <td>NaN</td>\n",
       "    </tr>\n",
       "    <tr>\n",
       "      <th>3</th>\n",
       "      <td>tt0116916</td>\n",
       "      <td>0.0</td>\n",
       "      <td>/rFpHBidSlhjflmnLu7BZilyKeQR.jpg</td>\n",
       "      <td>NaN</td>\n",
       "      <td>0.0</td>\n",
       "      <td>[{'id': 28, 'name': 'Action'}, {'id': 12, 'nam...</td>\n",
       "      <td>NaN</td>\n",
       "      <td>73549.0</td>\n",
       "      <td>en</td>\n",
       "      <td>The Dark Mist</td>\n",
       "      <td>With the future of the world hanging in the ba...</td>\n",
       "      <td>1.400</td>\n",
       "      <td>/z18E0lukzOtAALmfINSTCUU0Als.jpg</td>\n",
       "      <td>[{'id': 71364, 'logo_path': None, 'name': 'Car...</td>\n",
       "      <td>[{'iso_3166_1': 'US', 'name': 'United States o...</td>\n",
       "      <td>1996-01-01</td>\n",
       "      <td>0.0</td>\n",
       "      <td>101.0</td>\n",
       "      <td>[{'english_name': 'English', 'iso_639_1': 'en'...</td>\n",
       "      <td>Released</td>\n",
       "      <td>NaN</td>\n",
       "      <td>The Dark Mist</td>\n",
       "      <td>0.0</td>\n",
       "      <td>3.500</td>\n",
       "      <td>2.0</td>\n",
       "      <td>PG</td>\n",
       "    </tr>\n",
       "    <tr>\n",
       "      <th>4</th>\n",
       "      <td>tt0118589</td>\n",
       "      <td>0.0</td>\n",
       "      <td>/9NZAirJahVilTiDNCHLFcdkwkiy.jpg</td>\n",
       "      <td>NaN</td>\n",
       "      <td>22000000.0</td>\n",
       "      <td>[{'id': 18, 'name': 'Drama'}, {'id': 10402, 'n...</td>\n",
       "      <td>NaN</td>\n",
       "      <td>10696.0</td>\n",
       "      <td>en</td>\n",
       "      <td>Glitter</td>\n",
       "      <td>A young woman is catapulted into pop stardom, ...</td>\n",
       "      <td>11.213</td>\n",
       "      <td>/b8gKsXB6d60SC2HKUcAAzTacn0S.jpg</td>\n",
       "      <td>[{'id': 89627, 'logo_path': None, 'name': 'Gli...</td>\n",
       "      <td>[{'iso_3166_1': 'US', 'name': 'United States o...</td>\n",
       "      <td>2001-09-21</td>\n",
       "      <td>5271666.0</td>\n",
       "      <td>104.0</td>\n",
       "      <td>[{'english_name': 'English', 'iso_639_1': 'en'...</td>\n",
       "      <td>Released</td>\n",
       "      <td>In music she found her dream, her love, herself.</td>\n",
       "      <td>Glitter</td>\n",
       "      <td>0.0</td>\n",
       "      <td>4.405</td>\n",
       "      <td>132.0</td>\n",
       "      <td>PG-13</td>\n",
       "    </tr>\n",
       "  </tbody>\n",
       "</table>\n",
       "</div>"
      ],
      "text/plain": [
       "     imdb_id  adult                     backdrop_path belongs_to_collection  \\\n",
       "0          0    NaN                               NaN                   NaN   \n",
       "1  tt0035423    0.0  /tJLV3BAlHOgscVOrA99Wnb2gAef.jpg                   NaN   \n",
       "2  tt0114447    0.0                               NaN                   NaN   \n",
       "3  tt0116916    0.0  /rFpHBidSlhjflmnLu7BZilyKeQR.jpg                   NaN   \n",
       "4  tt0118589    0.0  /9NZAirJahVilTiDNCHLFcdkwkiy.jpg                   NaN   \n",
       "\n",
       "       budget                                             genres homepage  \\\n",
       "0         NaN                                                NaN      NaN   \n",
       "1  48000000.0  [{'id': 10749, 'name': 'Romance'}, {'id': 14, ...      NaN   \n",
       "2         0.0  [{'id': 53, 'name': 'Thriller'}, {'id': 28, 'n...      NaN   \n",
       "3         0.0  [{'id': 28, 'name': 'Action'}, {'id': 12, 'nam...      NaN   \n",
       "4  22000000.0  [{'id': 18, 'name': 'Drama'}, {'id': 10402, 'n...      NaN   \n",
       "\n",
       "         id original_language    original_title  \\\n",
       "0       NaN               NaN               NaN   \n",
       "1   11232.0                en    Kate & Leopold   \n",
       "2  151007.0                en  The Silent Force   \n",
       "3   73549.0                en     The Dark Mist   \n",
       "4   10696.0                en           Glitter   \n",
       "\n",
       "                                            overview  popularity  \\\n",
       "0                                                NaN         NaN   \n",
       "1  When her scientist ex-boyfriend discovers a po...      12.705   \n",
       "2  An elite Federal force whose objective is to e...       3.773   \n",
       "3  With the future of the world hanging in the ba...       1.400   \n",
       "4  A young woman is catapulted into pop stardom, ...      11.213   \n",
       "\n",
       "                        poster_path  \\\n",
       "0                               NaN   \n",
       "1  /mUvikzKJJSg9khrVdxK8kg3TMHA.jpg   \n",
       "2  /u0njmfXD3dXxQfeykBHBuFQOYqD.jpg   \n",
       "3  /z18E0lukzOtAALmfINSTCUU0Als.jpg   \n",
       "4  /b8gKsXB6d60SC2HKUcAAzTacn0S.jpg   \n",
       "\n",
       "                                production_companies  \\\n",
       "0                                                NaN   \n",
       "1  [{'id': 85, 'logo_path': None, 'name': 'Konrad...   \n",
       "2                                                 []   \n",
       "3  [{'id': 71364, 'logo_path': None, 'name': 'Car...   \n",
       "4  [{'id': 89627, 'logo_path': None, 'name': 'Gli...   \n",
       "\n",
       "                                production_countries release_date     revenue  \\\n",
       "0                                                NaN          NaN         NaN   \n",
       "1  [{'iso_3166_1': 'US', 'name': 'United States o...   2001-12-25  76019048.0   \n",
       "2                                                 []   2001-01-01         0.0   \n",
       "3  [{'iso_3166_1': 'US', 'name': 'United States o...   1996-01-01         0.0   \n",
       "4  [{'iso_3166_1': 'US', 'name': 'United States o...   2001-09-21   5271666.0   \n",
       "\n",
       "   runtime                                   spoken_languages    status  \\\n",
       "0      NaN                                                NaN       NaN   \n",
       "1    118.0  [{'english_name': 'French', 'iso_639_1': 'fr',...  Released   \n",
       "2     90.0  [{'english_name': 'English', 'iso_639_1': 'en'...  Released   \n",
       "3    101.0  [{'english_name': 'English', 'iso_639_1': 'en'...  Released   \n",
       "4    104.0  [{'english_name': 'English', 'iso_639_1': 'en'...  Released   \n",
       "\n",
       "                                             tagline             title  video  \\\n",
       "0                                                NaN               NaN    NaN   \n",
       "1  If they lived in the same century, they'd be p...    Kate & Leopold    0.0   \n",
       "2  They left him for dead... They should have fin...  The Silent Force    0.0   \n",
       "3                                                NaN     The Dark Mist    0.0   \n",
       "4   In music she found her dream, her love, herself.           Glitter    0.0   \n",
       "\n",
       "   vote_average  vote_count certification  \n",
       "0           NaN         NaN           NaN  \n",
       "1         6.325      1234.0         PG-13  \n",
       "2         5.000         3.0           NaN  \n",
       "3         3.500         2.0            PG  \n",
       "4         4.405       132.0         PG-13  "
      ]
     },
     "execution_count": 148,
     "metadata": {},
     "output_type": "execute_result"
    }
   ],
   "source": [
    "# Use read_csv in a list comprehension and combine with concat to load all files\n",
    "mdf = pd.concat([pd.read_csv(f) for f in tmdb_files] )\n",
    "mdf.head()"
   ]
  },
  {
   "cell_type": "markdown",
   "id": "dba2f261-5ba6-4445-9301-f1a09cdda52a",
   "metadata": {},
   "source": [
    "### Exploritory Data Analysis"
   ]
  },
  {
   "cell_type": "markdown",
   "id": "66628049-0a6e-4de3-abd8-f3a8ef534b15",
   "metadata": {},
   "source": [
    "##### Data Viz Functions"
   ]
  },
  {
   "cell_type": "code",
   "execution_count": 149,
   "id": "2c8d1f69-d864-43dc-91b1-4501a16ca6b8",
   "metadata": {},
   "outputs": [],
   "source": [
    "def count_plot(data,col):\n",
    "    ord = data[col].value_counts().index\n",
    "    col_name = col.replace(\"_\",\" \")\n",
    "    g = sns.countplot(data=data, x=col, order=ord)\n",
    "    g.set(title=f'Count of {col_name}', xlabel=col_name, ylabel=\"Count\");\n",
    "    plt.xticks(rotation=90, ha='center')"
   ]
  },
  {
   "cell_type": "code",
   "execution_count": 169,
   "id": "55b87c80-0380-47e5-8563-da604fbc5a28",
   "metadata": {},
   "outputs": [],
   "source": [
    "# function\n",
    "def plot_categorical_vs_target(df, x, y, dmin, dmax, ylbl, figsize=(6,4),\n",
    "                            fillna = True, placeholder = 'MISSING',\n",
    "                            order = None, ):\n",
    "  # Make a copy of the dataframe and fillna \n",
    "  temp_df = df.copy()\n",
    "  # fillna with placeholder\n",
    "  if fillna == True:\n",
    "    temp_df[x] = temp_df[x].fillna(placeholder)\n",
    "  \n",
    "  # or drop nulls prevent unwanted 'nan' group in stripplot\n",
    "  else:\n",
    "    temp_df = temp_df.dropna(subset=[x]) \n",
    "  # Create the figure and subplots\n",
    "  fig, ax = plt.subplots(figsize=(6,4))\n",
    "  \n",
    "    # Barplot \n",
    "  sns.barplot(data=temp_df, x=x, y=y, ax=ax, order=order, alpha=0.6,\n",
    "              linewidth=1, edgecolor='black', errorbar=None)\n",
    "  \n",
    "  # Boxplot\n",
    "  sns.stripplot(data=temp_df, x=x, y=y, hue=x, ax=ax, \n",
    "                order=order, hue_order=order, legend=False,\n",
    "                edgecolor='white', linewidth=0.5,\n",
    "                size=3,zorder=0)\n",
    "  # Rotate xlabels\n",
    "  ax.set_xticklabels(ax.get_xticklabels(), rotation=45, ha='right')\n",
    "  ax.set_yticklabels(ylbl)\n",
    "\n",
    "  ax.set_ylim(dmin, dmax)  \n",
    "  \n",
    "  # Add a title\n",
    "  ax.set_title(f\"{x} vs. {y}\")\n",
    "  fig.tight_layout()\n",
    "  return fig, ax"
   ]
  },
  {
   "cell_type": "markdown",
   "id": "118b28f4-5426-4a53-a368-1dc3fa2ff2f9",
   "metadata": {},
   "source": [
    "##### How many movies had at least some valid financial information (values > 0 for budget OR revenue)?\n",
    "- *Please exclude any movies with 0's for budget AND revenue from the remaining visualizations.*"
   ]
  },
  {
   "cell_type": "code",
   "execution_count": 151,
   "id": "8899829e-859a-479f-8937-02c68bd8f1ff",
   "metadata": {},
   "outputs": [
    {
     "name": "stdout",
     "output_type": "stream",
     "text": [
      "<class 'pandas.core.frame.DataFrame'>\n",
      "Int64Index: 2646 entries, 0 to 1292\n",
      "Data columns (total 26 columns):\n",
      " #   Column                 Non-Null Count  Dtype  \n",
      "---  ------                 --------------  -----  \n",
      " 0   imdb_id                2646 non-null   object \n",
      " 1   adult                  2644 non-null   float64\n",
      " 2   backdrop_path          1517 non-null   object \n",
      " 3   belongs_to_collection  215 non-null    object \n",
      " 4   budget                 2644 non-null   float64\n",
      " 5   genres                 2644 non-null   object \n",
      " 6   homepage               213 non-null    object \n",
      " 7   id                     2644 non-null   float64\n",
      " 8   original_language      2644 non-null   object \n",
      " 9   original_title         2644 non-null   object \n",
      " 10  overview               2586 non-null   object \n",
      " 11  popularity             2644 non-null   float64\n",
      " 12  poster_path            2405 non-null   object \n",
      " 13  production_companies   2644 non-null   object \n",
      " 14  production_countries   2644 non-null   object \n",
      " 15  release_date           2622 non-null   object \n",
      " 16  revenue                2644 non-null   float64\n",
      " 17  runtime                2644 non-null   float64\n",
      " 18  spoken_languages       2644 non-null   object \n",
      " 19  status                 2644 non-null   object \n",
      " 20  tagline                1149 non-null   object \n",
      " 21  title                  2644 non-null   object \n",
      " 22  video                  2644 non-null   float64\n",
      " 23  vote_average           2644 non-null   float64\n",
      " 24  vote_count             2644 non-null   float64\n",
      " 25  certification          870 non-null    object \n",
      "dtypes: float64(9), object(17)\n",
      "memory usage: 558.1+ KB\n"
     ]
    }
   ],
   "source": [
    "# Setting financial information \n",
    "df = mdf\n",
    "df.info()"
   ]
  },
  {
   "cell_type": "code",
   "execution_count": 152,
   "id": "e79db72f-4c17-4d57-b347-e234b7417ad3",
   "metadata": {},
   "outputs": [
    {
     "data": {
      "text/html": [
       "<div>\n",
       "<style scoped>\n",
       "    .dataframe tbody tr th:only-of-type {\n",
       "        vertical-align: middle;\n",
       "    }\n",
       "\n",
       "    .dataframe tbody tr th {\n",
       "        vertical-align: top;\n",
       "    }\n",
       "\n",
       "    .dataframe thead th {\n",
       "        text-align: right;\n",
       "    }\n",
       "</style>\n",
       "<table border=\"1\" class=\"dataframe\">\n",
       "  <thead>\n",
       "    <tr style=\"text-align: right;\">\n",
       "      <th></th>\n",
       "      <th>imdb_id</th>\n",
       "      <th>adult</th>\n",
       "      <th>backdrop_path</th>\n",
       "      <th>belongs_to_collection</th>\n",
       "      <th>budget</th>\n",
       "      <th>genres</th>\n",
       "      <th>homepage</th>\n",
       "      <th>id</th>\n",
       "      <th>original_language</th>\n",
       "      <th>original_title</th>\n",
       "      <th>overview</th>\n",
       "      <th>popularity</th>\n",
       "      <th>poster_path</th>\n",
       "      <th>production_companies</th>\n",
       "      <th>production_countries</th>\n",
       "      <th>release_date</th>\n",
       "      <th>revenue</th>\n",
       "      <th>runtime</th>\n",
       "      <th>spoken_languages</th>\n",
       "      <th>status</th>\n",
       "      <th>tagline</th>\n",
       "      <th>title</th>\n",
       "      <th>video</th>\n",
       "      <th>vote_average</th>\n",
       "      <th>vote_count</th>\n",
       "      <th>certification</th>\n",
       "    </tr>\n",
       "  </thead>\n",
       "  <tbody>\n",
       "    <tr>\n",
       "      <th>2</th>\n",
       "      <td>tt0114447</td>\n",
       "      <td>0.0</td>\n",
       "      <td>NaN</td>\n",
       "      <td>NaN</td>\n",
       "      <td>0.0</td>\n",
       "      <td>[{'id': 53, 'name': 'Thriller'}, {'id': 28, 'n...</td>\n",
       "      <td>NaN</td>\n",
       "      <td>151007.0</td>\n",
       "      <td>en</td>\n",
       "      <td>The Silent Force</td>\n",
       "      <td>An elite Federal force whose objective is to e...</td>\n",
       "      <td>3.773</td>\n",
       "      <td>/u0njmfXD3dXxQfeykBHBuFQOYqD.jpg</td>\n",
       "      <td>[]</td>\n",
       "      <td>[]</td>\n",
       "      <td>2001-01-01</td>\n",
       "      <td>0.0</td>\n",
       "      <td>90.0</td>\n",
       "      <td>[{'english_name': 'English', 'iso_639_1': 'en'...</td>\n",
       "      <td>Released</td>\n",
       "      <td>They left him for dead... They should have fin...</td>\n",
       "      <td>The Silent Force</td>\n",
       "      <td>0.0</td>\n",
       "      <td>5.0</td>\n",
       "      <td>3.0</td>\n",
       "      <td>NaN</td>\n",
       "    </tr>\n",
       "    <tr>\n",
       "      <th>3</th>\n",
       "      <td>tt0116916</td>\n",
       "      <td>0.0</td>\n",
       "      <td>/rFpHBidSlhjflmnLu7BZilyKeQR.jpg</td>\n",
       "      <td>NaN</td>\n",
       "      <td>0.0</td>\n",
       "      <td>[{'id': 28, 'name': 'Action'}, {'id': 12, 'nam...</td>\n",
       "      <td>NaN</td>\n",
       "      <td>73549.0</td>\n",
       "      <td>en</td>\n",
       "      <td>The Dark Mist</td>\n",
       "      <td>With the future of the world hanging in the ba...</td>\n",
       "      <td>1.400</td>\n",
       "      <td>/z18E0lukzOtAALmfINSTCUU0Als.jpg</td>\n",
       "      <td>[{'id': 71364, 'logo_path': None, 'name': 'Car...</td>\n",
       "      <td>[{'iso_3166_1': 'US', 'name': 'United States o...</td>\n",
       "      <td>1996-01-01</td>\n",
       "      <td>0.0</td>\n",
       "      <td>101.0</td>\n",
       "      <td>[{'english_name': 'English', 'iso_639_1': 'en'...</td>\n",
       "      <td>Released</td>\n",
       "      <td>NaN</td>\n",
       "      <td>The Dark Mist</td>\n",
       "      <td>0.0</td>\n",
       "      <td>3.5</td>\n",
       "      <td>2.0</td>\n",
       "      <td>PG</td>\n",
       "    </tr>\n",
       "    <tr>\n",
       "      <th>7</th>\n",
       "      <td>tt0120166</td>\n",
       "      <td>0.0</td>\n",
       "      <td>/havCE85OV7FUMWzqAZ9x31XRRCA.jpg</td>\n",
       "      <td>NaN</td>\n",
       "      <td>0.0</td>\n",
       "      <td>[{'id': 12, 'name': 'Adventure'}, {'id': 10751...</td>\n",
       "      <td>NaN</td>\n",
       "      <td>50944.0</td>\n",
       "      <td>en</td>\n",
       "      <td>The Sorcerer's Apprentice</td>\n",
       "      <td>Every hundred years, the evil sorceress Morgan...</td>\n",
       "      <td>5.979</td>\n",
       "      <td>/x1ZDLPgXlPvULLTlskjesrOZ9nP.jpg</td>\n",
       "      <td>[{'id': 26857, 'logo_path': None, 'name': 'Pea...</td>\n",
       "      <td>[{'iso_3166_1': 'GB', 'name': 'United Kingdom'}]</td>\n",
       "      <td>2002-04-12</td>\n",
       "      <td>0.0</td>\n",
       "      <td>86.0</td>\n",
       "      <td>[{'english_name': 'French', 'iso_639_1': 'fr',...</td>\n",
       "      <td>Released</td>\n",
       "      <td>NaN</td>\n",
       "      <td>The Sorcerer's Apprentice</td>\n",
       "      <td>0.0</td>\n",
       "      <td>4.6</td>\n",
       "      <td>11.0</td>\n",
       "      <td>NR</td>\n",
       "    </tr>\n",
       "  </tbody>\n",
       "</table>\n",
       "</div>"
      ],
      "text/plain": [
       "     imdb_id  adult                     backdrop_path belongs_to_collection  \\\n",
       "2  tt0114447    0.0                               NaN                   NaN   \n",
       "3  tt0116916    0.0  /rFpHBidSlhjflmnLu7BZilyKeQR.jpg                   NaN   \n",
       "7  tt0120166    0.0  /havCE85OV7FUMWzqAZ9x31XRRCA.jpg                   NaN   \n",
       "\n",
       "   budget                                             genres homepage  \\\n",
       "2     0.0  [{'id': 53, 'name': 'Thriller'}, {'id': 28, 'n...      NaN   \n",
       "3     0.0  [{'id': 28, 'name': 'Action'}, {'id': 12, 'nam...      NaN   \n",
       "7     0.0  [{'id': 12, 'name': 'Adventure'}, {'id': 10751...      NaN   \n",
       "\n",
       "         id original_language             original_title  \\\n",
       "2  151007.0                en           The Silent Force   \n",
       "3   73549.0                en              The Dark Mist   \n",
       "7   50944.0                en  The Sorcerer's Apprentice   \n",
       "\n",
       "                                            overview  popularity  \\\n",
       "2  An elite Federal force whose objective is to e...       3.773   \n",
       "3  With the future of the world hanging in the ba...       1.400   \n",
       "7  Every hundred years, the evil sorceress Morgan...       5.979   \n",
       "\n",
       "                        poster_path  \\\n",
       "2  /u0njmfXD3dXxQfeykBHBuFQOYqD.jpg   \n",
       "3  /z18E0lukzOtAALmfINSTCUU0Als.jpg   \n",
       "7  /x1ZDLPgXlPvULLTlskjesrOZ9nP.jpg   \n",
       "\n",
       "                                production_companies  \\\n",
       "2                                                 []   \n",
       "3  [{'id': 71364, 'logo_path': None, 'name': 'Car...   \n",
       "7  [{'id': 26857, 'logo_path': None, 'name': 'Pea...   \n",
       "\n",
       "                                production_countries release_date  revenue  \\\n",
       "2                                                 []   2001-01-01      0.0   \n",
       "3  [{'iso_3166_1': 'US', 'name': 'United States o...   1996-01-01      0.0   \n",
       "7   [{'iso_3166_1': 'GB', 'name': 'United Kingdom'}]   2002-04-12      0.0   \n",
       "\n",
       "   runtime                                   spoken_languages    status  \\\n",
       "2     90.0  [{'english_name': 'English', 'iso_639_1': 'en'...  Released   \n",
       "3    101.0  [{'english_name': 'English', 'iso_639_1': 'en'...  Released   \n",
       "7     86.0  [{'english_name': 'French', 'iso_639_1': 'fr',...  Released   \n",
       "\n",
       "                                             tagline  \\\n",
       "2  They left him for dead... They should have fin...   \n",
       "3                                                NaN   \n",
       "7                                                NaN   \n",
       "\n",
       "                       title  video  vote_average  vote_count certification  \n",
       "2           The Silent Force    0.0           5.0         3.0           NaN  \n",
       "3              The Dark Mist    0.0           3.5         2.0            PG  \n",
       "7  The Sorcerer's Apprentice    0.0           4.6        11.0            NR  "
      ]
     },
     "execution_count": 152,
     "metadata": {},
     "output_type": "execute_result"
    }
   ],
   "source": [
    "drop_filter = df.query('budget <= 0 & revenue <= 0 ')\n",
    "drop_filter.head(3)"
   ]
  },
  {
   "cell_type": "code",
   "execution_count": 153,
   "id": "c6f1fbac-f6aa-4872-8605-81f507b36e87",
   "metadata": {},
   "outputs": [],
   "source": [
    "df.drop(drop_filter.index, inplace=True)"
   ]
  },
  {
   "cell_type": "code",
   "execution_count": 154,
   "id": "7c28a764-5ec9-4340-9093-687916aa6681",
   "metadata": {},
   "outputs": [
    {
     "name": "stdout",
     "output_type": "stream",
     "text": [
      "<class 'pandas.core.frame.DataFrame'>\n",
      "Int64Index: 257 entries, 0 to 1151\n",
      "Data columns (total 26 columns):\n",
      " #   Column                 Non-Null Count  Dtype  \n",
      "---  ------                 --------------  -----  \n",
      " 0   imdb_id                257 non-null    object \n",
      " 1   adult                  255 non-null    float64\n",
      " 2   backdrop_path          215 non-null    object \n",
      " 3   belongs_to_collection  42 non-null     object \n",
      " 4   budget                 255 non-null    float64\n",
      " 5   genres                 255 non-null    object \n",
      " 6   homepage               44 non-null     object \n",
      " 7   id                     255 non-null    float64\n",
      " 8   original_language      255 non-null    object \n",
      " 9   original_title         255 non-null    object \n",
      " 10  overview               255 non-null    object \n",
      " 11  popularity             255 non-null    float64\n",
      " 12  poster_path            247 non-null    object \n",
      " 13  production_companies   255 non-null    object \n",
      " 14  production_countries   255 non-null    object \n",
      " 15  release_date           254 non-null    object \n",
      " 16  revenue                255 non-null    float64\n",
      " 17  runtime                255 non-null    float64\n",
      " 18  spoken_languages       255 non-null    object \n",
      " 19  status                 255 non-null    object \n",
      " 20  tagline                205 non-null    object \n",
      " 21  title                  255 non-null    object \n",
      " 22  video                  255 non-null    float64\n",
      " 23  vote_average           255 non-null    float64\n",
      " 24  vote_count             255 non-null    float64\n",
      " 25  certification          179 non-null    object \n",
      "dtypes: float64(9), object(17)\n",
      "memory usage: 54.2+ KB\n"
     ]
    }
   ],
   "source": [
    "df.info()"
   ]
  },
  {
   "cell_type": "code",
   "execution_count": 155,
   "id": "84c565f3-e0fa-4251-82db-b2262f154377",
   "metadata": {},
   "outputs": [
    {
     "data": {
      "text/html": [
       "<div>\n",
       "<style scoped>\n",
       "    .dataframe tbody tr th:only-of-type {\n",
       "        vertical-align: middle;\n",
       "    }\n",
       "\n",
       "    .dataframe tbody tr th {\n",
       "        vertical-align: top;\n",
       "    }\n",
       "\n",
       "    .dataframe thead th {\n",
       "        text-align: right;\n",
       "    }\n",
       "</style>\n",
       "<table border=\"1\" class=\"dataframe\">\n",
       "  <thead>\n",
       "    <tr style=\"text-align: right;\">\n",
       "      <th></th>\n",
       "      <th>imdb_id</th>\n",
       "      <th>adult</th>\n",
       "      <th>backdrop_path</th>\n",
       "      <th>belongs_to_collection</th>\n",
       "      <th>budget</th>\n",
       "      <th>genres</th>\n",
       "      <th>homepage</th>\n",
       "      <th>id</th>\n",
       "      <th>original_language</th>\n",
       "      <th>original_title</th>\n",
       "      <th>overview</th>\n",
       "      <th>popularity</th>\n",
       "      <th>poster_path</th>\n",
       "      <th>production_companies</th>\n",
       "      <th>production_countries</th>\n",
       "      <th>release_date</th>\n",
       "      <th>revenue</th>\n",
       "      <th>runtime</th>\n",
       "      <th>spoken_languages</th>\n",
       "      <th>status</th>\n",
       "      <th>tagline</th>\n",
       "      <th>title</th>\n",
       "      <th>video</th>\n",
       "      <th>vote_average</th>\n",
       "      <th>vote_count</th>\n",
       "      <th>certification</th>\n",
       "    </tr>\n",
       "  </thead>\n",
       "  <tbody>\n",
       "    <tr>\n",
       "      <th>0</th>\n",
       "      <td>0</td>\n",
       "      <td>NaN</td>\n",
       "      <td>NaN</td>\n",
       "      <td>NaN</td>\n",
       "      <td>NaN</td>\n",
       "      <td>NaN</td>\n",
       "      <td>NaN</td>\n",
       "      <td>NaN</td>\n",
       "      <td>NaN</td>\n",
       "      <td>NaN</td>\n",
       "      <td>NaN</td>\n",
       "      <td>NaN</td>\n",
       "      <td>NaN</td>\n",
       "      <td>NaN</td>\n",
       "      <td>NaN</td>\n",
       "      <td>NaN</td>\n",
       "      <td>NaN</td>\n",
       "      <td>NaN</td>\n",
       "      <td>NaN</td>\n",
       "      <td>NaN</td>\n",
       "      <td>NaN</td>\n",
       "      <td>NaN</td>\n",
       "      <td>NaN</td>\n",
       "      <td>NaN</td>\n",
       "      <td>NaN</td>\n",
       "      <td>NaN</td>\n",
       "    </tr>\n",
       "    <tr>\n",
       "      <th>4</th>\n",
       "      <td>tt0118589</td>\n",
       "      <td>0.0</td>\n",
       "      <td>/9NZAirJahVilTiDNCHLFcdkwkiy.jpg</td>\n",
       "      <td>NaN</td>\n",
       "      <td>22000000.0</td>\n",
       "      <td>[{'id': 18, 'name': 'Drama'}, {'id': 10402, 'n...</td>\n",
       "      <td>NaN</td>\n",
       "      <td>10696.0</td>\n",
       "      <td>en</td>\n",
       "      <td>Glitter</td>\n",
       "      <td>A young woman is catapulted into pop stardom, ...</td>\n",
       "      <td>11.213</td>\n",
       "      <td>/b8gKsXB6d60SC2HKUcAAzTacn0S.jpg</td>\n",
       "      <td>[{'id': 89627, 'logo_path': None, 'name': 'Gli...</td>\n",
       "      <td>[{'iso_3166_1': 'US', 'name': 'United States o...</td>\n",
       "      <td>2001-09-21</td>\n",
       "      <td>5271666.0</td>\n",
       "      <td>104.0</td>\n",
       "      <td>[{'english_name': 'English', 'iso_639_1': 'en'...</td>\n",
       "      <td>Released</td>\n",
       "      <td>In music she found her dream, her love, herself.</td>\n",
       "      <td>Glitter</td>\n",
       "      <td>0.0</td>\n",
       "      <td>4.405</td>\n",
       "      <td>132.0</td>\n",
       "      <td>PG-13</td>\n",
       "    </tr>\n",
       "    <tr>\n",
       "      <th>5</th>\n",
       "      <td>tt0118652</td>\n",
       "      <td>0.0</td>\n",
       "      <td>/mWxJEFRMvkG4UItYJkRDMgWQ08Y.jpg</td>\n",
       "      <td>NaN</td>\n",
       "      <td>1000000.0</td>\n",
       "      <td>[{'id': 27, 'name': 'Horror'}, {'id': 9648, 'n...</td>\n",
       "      <td>NaN</td>\n",
       "      <td>17140.0</td>\n",
       "      <td>en</td>\n",
       "      <td>The Attic Expeditions</td>\n",
       "      <td>Trevor Blackburn is accused of murdering his g...</td>\n",
       "      <td>4.178</td>\n",
       "      <td>/b0p8CjMLWc7B1nnIfFQ2uY3HLe0.jpg</td>\n",
       "      <td>[{'id': 3260, 'logo_path': None, 'name': 'Tse ...</td>\n",
       "      <td>[{'iso_3166_1': 'US', 'name': 'United States o...</td>\n",
       "      <td>2001-03-30</td>\n",
       "      <td>0.0</td>\n",
       "      <td>100.0</td>\n",
       "      <td>[{'english_name': 'English', 'iso_639_1': 'en'...</td>\n",
       "      <td>Released</td>\n",
       "      <td>His search for peace of mind... will leave his...</td>\n",
       "      <td>The Attic Expeditions</td>\n",
       "      <td>0.0</td>\n",
       "      <td>5.194</td>\n",
       "      <td>31.0</td>\n",
       "      <td>R</td>\n",
       "    </tr>\n",
       "  </tbody>\n",
       "</table>\n",
       "</div>"
      ],
      "text/plain": [
       "     imdb_id  adult                     backdrop_path belongs_to_collection  \\\n",
       "0          0    NaN                               NaN                   NaN   \n",
       "4  tt0118589    0.0  /9NZAirJahVilTiDNCHLFcdkwkiy.jpg                   NaN   \n",
       "5  tt0118652    0.0  /mWxJEFRMvkG4UItYJkRDMgWQ08Y.jpg                   NaN   \n",
       "\n",
       "       budget                                             genres homepage  \\\n",
       "0         NaN                                                NaN      NaN   \n",
       "4  22000000.0  [{'id': 18, 'name': 'Drama'}, {'id': 10402, 'n...      NaN   \n",
       "5   1000000.0  [{'id': 27, 'name': 'Horror'}, {'id': 9648, 'n...      NaN   \n",
       "\n",
       "        id original_language         original_title  \\\n",
       "0      NaN               NaN                    NaN   \n",
       "4  10696.0                en                Glitter   \n",
       "5  17140.0                en  The Attic Expeditions   \n",
       "\n",
       "                                            overview  popularity  \\\n",
       "0                                                NaN         NaN   \n",
       "4  A young woman is catapulted into pop stardom, ...      11.213   \n",
       "5  Trevor Blackburn is accused of murdering his g...       4.178   \n",
       "\n",
       "                        poster_path  \\\n",
       "0                               NaN   \n",
       "4  /b8gKsXB6d60SC2HKUcAAzTacn0S.jpg   \n",
       "5  /b0p8CjMLWc7B1nnIfFQ2uY3HLe0.jpg   \n",
       "\n",
       "                                production_companies  \\\n",
       "0                                                NaN   \n",
       "4  [{'id': 89627, 'logo_path': None, 'name': 'Gli...   \n",
       "5  [{'id': 3260, 'logo_path': None, 'name': 'Tse ...   \n",
       "\n",
       "                                production_countries release_date    revenue  \\\n",
       "0                                                NaN          NaN        NaN   \n",
       "4  [{'iso_3166_1': 'US', 'name': 'United States o...   2001-09-21  5271666.0   \n",
       "5  [{'iso_3166_1': 'US', 'name': 'United States o...   2001-03-30        0.0   \n",
       "\n",
       "   runtime                                   spoken_languages    status  \\\n",
       "0      NaN                                                NaN       NaN   \n",
       "4    104.0  [{'english_name': 'English', 'iso_639_1': 'en'...  Released   \n",
       "5    100.0  [{'english_name': 'English', 'iso_639_1': 'en'...  Released   \n",
       "\n",
       "                                             tagline                  title  \\\n",
       "0                                                NaN                    NaN   \n",
       "4   In music she found her dream, her love, herself.                Glitter   \n",
       "5  His search for peace of mind... will leave his...  The Attic Expeditions   \n",
       "\n",
       "   video  vote_average  vote_count certification  \n",
       "0    NaN           NaN         NaN           NaN  \n",
       "4    0.0         4.405       132.0         PG-13  \n",
       "5    0.0         5.194        31.0             R  "
      ]
     },
     "execution_count": 155,
     "metadata": {},
     "output_type": "execute_result"
    }
   ],
   "source": [
    "df.head(3)"
   ]
  },
  {
   "cell_type": "markdown",
   "id": "4c3612a2-0f41-4b33-b8dd-80ae4ba0d847",
   "metadata": {},
   "source": [
    "- There are 257 movies with entries greater than 0 for either budget or revenue\n",
    "- I have removed the movies with 0 in both"
   ]
  },
  {
   "cell_type": "code",
   "execution_count": 156,
   "id": "afa895bf-2fde-48d1-9192-494340a51b31",
   "metadata": {},
   "outputs": [
    {
     "data": {
      "image/png": "[encoded data removed]",
      "text/plain": [
       "<Figure size 640x480 with 1 Axes>"
      ]
     },
     "metadata": {},
     "output_type": "display_data"
    }
   ],
   "source": [
    "count_plot(df,'certification')"
   ]
  },
  {
   "cell_type": "markdown",
   "id": "492f1af5-9adc-4c7f-847f-c13521889ff2",
   "metadata": {},
   "source": [
    "##### How many movies are there in each of the certification categories (G/PG/PG-13/R)?"
   ]
  },
  {
   "cell_type": "code",
   "execution_count": 157,
   "id": "8ecf8d89-33a1-4e37-98b3-5d8c9dc64d00",
   "metadata": {},
   "outputs": [
    {
     "data": {
      "text/plain": [
       "R        96\n",
       "PG-13    60\n",
       "PG       14\n",
       "NR        5\n",
       "G         4\n",
       "Name: certification, dtype: int64"
      ]
     },
     "execution_count": 157,
     "metadata": {},
     "output_type": "execute_result"
    },
    {
     "data": {
      "image/png": "[encoded data removed]",
      "text/plain": [
       "<Figure size 640x480 with 1 Axes>"
      ]
     },
     "metadata": {},
     "output_type": "display_data"
    }
   ],
   "source": [
    "count_plot(df,'certification')\n",
    "df['certification'].value_counts()"
   ]
  },
  {
   "cell_type": "markdown",
   "id": "9c9190e7-ba9a-4919-a910-f8c3ded9bfdb",
   "metadata": {},
   "source": [
    "##### What is the average revenue per certification category?\n"
   ]
  },
  {
   "cell_type": "code",
   "execution_count": 171,
   "id": "07c2e494-23b9-480f-a3f0-3ada6c683871",
   "metadata": {},
   "outputs": [
    {
     "data": {
      "text/plain": [
       "976475520.0"
      ]
     },
     "execution_count": 171,
     "metadata": {},
     "output_type": "execute_result"
    }
   ],
   "source": [
    "# plt.ylim(10, 40)\n",
    "dfmin = df['revenue'].min()\n",
    "dfmax = df['revenue'].max()\n",
    "dfmax"
   ]
  },
  {
   "cell_type": "code",
   "execution_count": 162,
   "id": "6f61637e-c44f-487d-9286-6348fd467179",
   "metadata": {},
   "outputs": [],
   "source": [
    "ylbl = ['$0', '$200,000,000', '$400,000,000', '$600,000,000', '$800,000,000', '$1,000,000,000']"
   ]
  },
  {
   "cell_type": "code",
   "execution_count": 163,
   "id": "feb483c2-158b-41e4-873f-256627cada99",
   "metadata": {},
   "outputs": [
    {
     "data": {
      "text/plain": [
       "certification\n",
       "G         91031024.0\n",
       "NR         6814726.5\n",
       "PG       261236176.0\n",
       "PG-13    110996792.0\n",
       "R         33467706.0\n",
       "Name: revenue, dtype: float32"
      ]
     },
     "execution_count": 163,
     "metadata": {},
     "output_type": "execute_result"
    }
   ],
   "source": [
    "df['revenue'] = df['revenue'].astype(\"float32\")\n",
    "df.groupby('certification')['revenue'].mean()"
   ]
  },
  {
   "cell_type": "code",
   "execution_count": 172,
   "id": "e48c03a5-ddf1-44a3-bcd2-e99af3c6e111",
   "metadata": {},
   "outputs": [
    {
     "name": "stderr",
     "output_type": "stream",
     "text": [
      "C:\\Users\\gondr\\AppData\\Local\\Temp\\ipykernel_41172\\1963851188.py:28: UserWarning: FixedFormatter should only be used together with FixedLocator\n",
      "  ax.set_yticklabels(ylbl)\n"
     ]
    },
    {
     "data": {
      "image/png": "[encoded data removed]",
      "text/plain": [
       "<Figure size 600x400 with 1 Axes>"
      ]
     },
     "metadata": {},
     "output_type": "display_data"
    }
   ],
   "source": [
    "fig, ax = plot_categorical_vs_target(df, x='certification', y='revenue', fillna=False, dmin=dfmin, dmax=dfmax, ylbl=ylbl)"
   ]
  },
  {
   "cell_type": "markdown",
   "id": "cd165574-b75b-440a-bec2-b5c3f5d910f9",
   "metadata": {},
   "source": [
    "##### What is the average budget per certification category?"
   ]
  },
  {
   "cell_type": "code",
   "execution_count": 173,
   "id": "edc8d685-ceb6-4674-bf33-3611833e1826",
   "metadata": {},
   "outputs": [
    {
     "data": {
      "text/plain": [
       "140000000.0"
      ]
     },
     "execution_count": 173,
     "metadata": {},
     "output_type": "execute_result"
    }
   ],
   "source": [
    "# plt.ylim(10, 40)\n",
    "dfmin = df['budget'].min()\n",
    "dfmax = df['budget'].max()\n",
    "dfmax"
   ]
  },
  {
   "cell_type": "code",
   "execution_count": 175,
   "id": "2927389e-5249-4f7f-a1f0-a11cd92452a6",
   "metadata": {},
   "outputs": [],
   "source": [
    "ylbl = ['$0', '$20,000,000', '$40,000,000', '$60,000,000', '$80,000,000', '$100,000,000','$120,000,000','$140,000,000']"
   ]
  },
  {
   "cell_type": "code",
   "execution_count": 167,
   "id": "bb28d8df-07ef-4d55-82af-8267341cda50",
   "metadata": {},
   "outputs": [
    {
     "data": {
      "text/plain": [
       "certification\n",
       "G        34250000.0\n",
       "NR        1489000.0\n",
       "PG       64035712.0\n",
       "PG-13    43115792.0\n",
       "R        22905312.0\n",
       "Name: budget, dtype: float32"
      ]
     },
     "execution_count": 167,
     "metadata": {},
     "output_type": "execute_result"
    }
   ],
   "source": [
    "df['budget'] = df['budget'].astype(\"float32\")\n",
    "df.groupby('certification')['budget'].mean()"
   ]
  },
  {
   "cell_type": "code",
   "execution_count": 176,
   "id": "7912129b-01dd-4001-974f-834828da4391",
   "metadata": {},
   "outputs": [
    {
     "name": "stderr",
     "output_type": "stream",
     "text": [
      "C:\\Users\\gondr\\AppData\\Local\\Temp\\ipykernel_41172\\1963851188.py:28: UserWarning: FixedFormatter should only be used together with FixedLocator\n",
      "  ax.set_yticklabels(ylbl)\n"
     ]
    },
    {
     "data": {
      "image/png": "[encoded data removed]",
      "text/plain": [
       "<Figure size 600x400 with 1 Axes>"
      ]
     },
     "metadata": {},
     "output_type": "display_data"
    }
   ],
   "source": [
    "fig, ax = plot_categorical_vs_target(df, x='certification', y='budget', fillna=False, dmin=dfmin, dmax=dfmax, ylbl=ylbl)"
   ]
  },
  {
   "cell_type": "markdown",
   "id": "c9841e77-227b-46bf-9d63-348baaeefb60",
   "metadata": {},
   "source": [
    "##### Saving Combined API Data"
   ]
  },
  {
   "cell_type": "code",
   "execution_count": null,
   "id": "d67aab85-cba5-41c6-ab70-aed06e09de10",
   "metadata": {},
   "outputs": [],
   "source": [
    "# Save file path to folder with new file name at the end\n",
    "fname_out = \"/Data/tmdb_results_combined.csv.gz\"\n",
    "mdf.to_csv(fname_out, index=False)"
   ]
  }
 ],
 "metadata": {
  "kernelspec": {
   "display_name": "Python (dojo-env)",
   "language": "python",
   "name": "dojo-env"
  },
  "language_info": {
   "codemirror_mode": {
    "name": "ipython",
    "version": 3
   },
   "file_extension": ".py",
   "mimetype": "text/x-python",
   "name": "python",
   "nbconvert_exporter": "python",
   "pygments_lexer": "ipython3",
   "version": "3.10.10"
  },
  "widgets": {
   "application/vnd.jupyter.widget-state+json": {
    "state": {},
    "version_major": 2,
    "version_minor": 0
   }
  }
 },
 "nbformat": 4,
 "nbformat_minor": 5
}
