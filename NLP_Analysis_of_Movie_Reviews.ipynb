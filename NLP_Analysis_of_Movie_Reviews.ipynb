{
 "cells": [
  {
   "cell_type": "markdown",
   "id": "3e603a98-0b2c-42f1-b762-03de259fdf9b",
   "metadata": {},
   "source": [
    "# NLP Analysis of Movie Reviews\n",
    "- David Atkins"
   ]
  },
  {
   "cell_type": "code",
   "execution_count": 36,
   "id": "b479fa28-eb7d-486e-9c9c-064c01d28b78",
   "metadata": {},
   "outputs": [],
   "source": [
    "# imports\n",
    "import pandas as pd\n",
    "import numpy as np\n",
    "import matplotlib.pyplot as plt\n",
    "import nltk\n",
    "import spacy\n",
    "\n",
    "from nltk.tokenize import TweetTokenizer\n",
    "from wordcloud import WordCloud\n",
    "from nltk.probability import FreqDist\n",
    "from string import punctuation\n",
    "\n",
    "pd.set_option('display.max_colwidth', None)\n",
    "\n",
    "import warnings\n",
    "warnings.filterwarnings(\"ignore\")"
   ]
  },
  {
   "cell_type": "code",
   "execution_count": 8,
   "id": "41e30f2d-8841-4acd-bb25-642827a4d3cb",
   "metadata": {},
   "outputs": [],
   "source": [
    "#defining the spacy processing function\n",
    "def spacy_process(text):\n",
    "        \"\"\"Lemmatize tokens, lower case, remove punctuation, spaces, and stop words\"\"\"\n",
    "        doc = nlp_model(text)\n",
    "        processed_doc = [token.lemma_ for token in doc if not token.is_punct and \n",
    "                         not token.is_space and not token.is_stop and \n",
    "                         not 'http' in token.lemma_ and 'www' not in token.lemma_]\n",
    "        return processed_doc"
   ]
  },
  {
   "cell_type": "markdown",
   "id": "6d814427-b9a5-452f-96e0-69cdf7c51b1b",
   "metadata": {},
   "source": [
    "### Data & Preprocessing"
   ]
  },
  {
   "cell_type": "code",
   "execution_count": 2,
   "id": "25030972-1217-4b6f-af14-bd83a828c6f3",
   "metadata": {},
   "outputs": [
    {
     "data": {
      "text/html": [
       "<div>\n",
       "<style scoped>\n",
       "    .dataframe tbody tr th:only-of-type {\n",
       "        vertical-align: middle;\n",
       "    }\n",
       "\n",
       "    .dataframe tbody tr th {\n",
       "        vertical-align: top;\n",
       "    }\n",
       "\n",
       "    .dataframe thead th {\n",
       "        text-align: right;\n",
       "    }\n",
       "</style>\n",
       "<table border=\"1\" class=\"dataframe\">\n",
       "  <thead>\n",
       "    <tr style=\"text-align: right;\">\n",
       "      <th></th>\n",
       "      <th>review_id</th>\n",
       "      <th>movie_id</th>\n",
       "      <th>imdb_id</th>\n",
       "      <th>original_title</th>\n",
       "      <th>review</th>\n",
       "      <th>rating</th>\n",
       "    </tr>\n",
       "  </thead>\n",
       "  <tbody>\n",
       "    <tr>\n",
       "      <th>0</th>\n",
       "      <td>64ecc16e83901800af821d50</td>\n",
       "      <td>843</td>\n",
       "      <td>tt0118694</td>\n",
       "      <td>花樣年華</td>\n",
       "      <td>This is a fine piece of cinema from Wong Kar-Wai that tells us a story of two people whom circumstance throws together - but not in a way you might expect. We start with two couples who move into a new building. One a newspaper man with his wife, the other a business executive and his wife. The businessman is rarely at home, nor is the journalist's wife - which leaves the other two at increasingly loose ends. It isn't long before a friendship develops - usually over some noodles - and though entirely platonic, their relationship becomes solid and trusting. Then, something entirely unexpected occurs that causes the two to refocus their relationship in the face of betrayal and disappointment - and well.... What helps this film stand out are the performances from both Tony Leung (\"Chow Mo-wan\") and the gorgeous Maggie Cheung (\"Mrs. Chan\") - it's a love story, and it burns intensely - but not physically - as their story subsumes both themselves and the audience. The film looks marvellous, is paced stylishly and uses quite a bit of Nat King Cole to set and keep the mood atmospheric, romantic and interesting. The photography offers us lingering close ups, we get a sense of them falling in love as if we, too, were undergoing the same experience and that all adds to the richness of the story. To give us a breather from the intensity, there are some fun scenes with their very close neighbours who love nothing better than to sit up all night playing mahjong!! Super film, this - flew by.</td>\n",
       "      <td>7.0</td>\n",
       "    </tr>\n",
       "    <tr>\n",
       "      <th>1</th>\n",
       "      <td>57086ff5c3a3681d29001512</td>\n",
       "      <td>7443</td>\n",
       "      <td>tt0120630</td>\n",
       "      <td>Chicken Run</td>\n",
       "      <td>A guilty pleasure for me personally, as I love both 'The Great Escape' and most of the works I have seen, over the years, from this rightfully-esteemed British animation company. Highly recommended both for children and for adults who enjoy animation.</td>\n",
       "      <td>9.0</td>\n",
       "    </tr>\n",
       "    <tr>\n",
       "      <th>2</th>\n",
       "      <td>5bb5ac829251410dcb00810c</td>\n",
       "      <td>7443</td>\n",
       "      <td>tt0120630</td>\n",
       "      <td>Chicken Run</td>\n",
       "      <td>Made my roommate who hates stop-motion animation watched this in 2018 and even he had a good time. It's maybe not as great as I remember thinking it was when I was a little kid, but it still holds up to some degree.\\r\\n\\r\\n_Final rating:★★★ - I liked it. Would personally recommend you give it a go._</td>\n",
       "      <td>6.0</td>\n",
       "    </tr>\n",
       "  </tbody>\n",
       "</table>\n",
       "</div>"
      ],
      "text/plain": [
       "                  review_id  movie_id    imdb_id original_title  \\\n",
       "0  64ecc16e83901800af821d50       843  tt0118694           花樣年華   \n",
       "1  57086ff5c3a3681d29001512      7443  tt0120630    Chicken Run   \n",
       "2  5bb5ac829251410dcb00810c      7443  tt0120630    Chicken Run   \n",
       "\n",
       "                                                                                                                                                                                                                                                                                                                                                                                                                                                                                                                                                                                                                                                                                                                                                                                                                                                                                                                                                                                                                                                                                                                                                                                                                                                                                                                                                                                                                                                                                                                                                          review  \\\n",
       "0  This is a fine piece of cinema from Wong Kar-Wai that tells us a story of two people whom circumstance throws together - but not in a way you might expect. We start with two couples who move into a new building. One a newspaper man with his wife, the other a business executive and his wife. The businessman is rarely at home, nor is the journalist's wife - which leaves the other two at increasingly loose ends. It isn't long before a friendship develops - usually over some noodles - and though entirely platonic, their relationship becomes solid and trusting. Then, something entirely unexpected occurs that causes the two to refocus their relationship in the face of betrayal and disappointment - and well.... What helps this film stand out are the performances from both Tony Leung (\"Chow Mo-wan\") and the gorgeous Maggie Cheung (\"Mrs. Chan\") - it's a love story, and it burns intensely - but not physically - as their story subsumes both themselves and the audience. The film looks marvellous, is paced stylishly and uses quite a bit of Nat King Cole to set and keep the mood atmospheric, romantic and interesting. The photography offers us lingering close ups, we get a sense of them falling in love as if we, too, were undergoing the same experience and that all adds to the richness of the story. To give us a breather from the intensity, there are some fun scenes with their very close neighbours who love nothing better than to sit up all night playing mahjong!! Super film, this - flew by.   \n",
       "1                                                                                                                                                                                                                                                                                                                                                                                                                                                                                                                                                                                                                                                                                                                                                                                                                                                                                                                                                                                                                                                                                                                                                                                                                                                                                                    A guilty pleasure for me personally, as I love both 'The Great Escape' and most of the works I have seen, over the years, from this rightfully-esteemed British animation company. Highly recommended both for children and for adults who enjoy animation.   \n",
       "2                                                                                                                                                                                                                                                                                                                                                                                                                                                                                                                                                                                                                                                                                                                                                                                                                                                                                                                                                                                                                                                                                                                                                                                                                                                   Made my roommate who hates stop-motion animation watched this in 2018 and even he had a good time. It's maybe not as great as I remember thinking it was when I was a little kid, but it still holds up to some degree.\\r\\n\\r\\n_Final rating:★★★ - I liked it. Would personally recommend you give it a go._   \n",
       "\n",
       "   rating  \n",
       "0     7.0  \n",
       "1     9.0  \n",
       "2     6.0  "
      ]
     },
     "execution_count": 2,
     "metadata": {},
     "output_type": "execute_result"
    }
   ],
   "source": [
    "# loading data\n",
    "df = pd.read_csv('Data-NLP\\movie_reviews_v2.csv')\n",
    "df.head(3)"
   ]
  },
  {
   "cell_type": "code",
   "execution_count": 3,
   "id": "902ce3ac-498c-42c4-afb2-48a4b701b0ff",
   "metadata": {},
   "outputs": [
    {
     "data": {
      "text/plain": [
       "(8650, 6)"
      ]
     },
     "execution_count": 3,
     "metadata": {},
     "output_type": "execute_result"
    }
   ],
   "source": [
    "# number of reviews\n",
    "df.shape"
   ]
  },
  {
   "cell_type": "code",
   "execution_count": 4,
   "id": "dc7802a6-a0a4-42f9-be4e-6707a390e485",
   "metadata": {},
   "outputs": [
    {
     "data": {
      "text/plain": [
       "7.0     1576\n",
       "6.0     1386\n",
       "8.0     1259\n",
       "5.0      732\n",
       "9.0      616\n",
       "10.0     564\n",
       "4.0      514\n",
       "1.0      284\n",
       "3.0      254\n",
       "2.0      153\n",
       "7.5       27\n",
       "8.5       23\n",
       "6.5       22\n",
       "9.5       15\n",
       "0.5       10\n",
       "5.5        6\n",
       "3.5        4\n",
       "4.5        4\n",
       "1.5        3\n",
       "2.5        2\n",
       "Name: rating, dtype: int64"
      ]
     },
     "execution_count": 4,
     "metadata": {},
     "output_type": "execute_result"
    }
   ],
   "source": [
    "df['rating'].value_counts()"
   ]
  },
  {
   "cell_type": "code",
   "execution_count": 5,
   "id": "817c86bc-7d86-4fc9-b4ed-0c7ba325d05f",
   "metadata": {},
   "outputs": [
    {
     "data": {
      "text/plain": [
       "review_id            0\n",
       "movie_id             0\n",
       "imdb_id              0\n",
       "original_title       0\n",
       "review               0\n",
       "rating            1196\n",
       "dtype: int64"
      ]
     },
     "execution_count": 5,
     "metadata": {},
     "output_type": "execute_result"
    }
   ],
   "source": [
    "df.isnull().sum()"
   ]
  },
  {
   "cell_type": "code",
   "execution_count": 6,
   "id": "8617429a-48a9-4ccf-9168-3a39b3c5aac1",
   "metadata": {},
   "outputs": [
    {
     "data": {
      "text/plain": [
       "DROP    6231\n",
       "LOW     1224\n",
       "HIGH    1195\n",
       "Name: rated, dtype: int64"
      ]
     },
     "execution_count": 6,
     "metadata": {},
     "output_type": "execute_result"
    }
   ],
   "source": [
    "# making a 'rated' column for high and low\n",
    "df['rated'] = pd.Series\n",
    "for i in range(len(df['rating'])):\n",
    "    if df['rating'][i] >= 9:\n",
    "        df['rated'][i] = 'HIGH'\n",
    "    elif df['rating'][i] <= 4:\n",
    "        df['rated'][i] = 'LOW'\n",
    "    else:\n",
    "        df['rated'][i] = 'DROP'\n",
    "\n",
    "df['rated'].value_counts()"
   ]
  },
  {
   "cell_type": "code",
   "execution_count": 31,
   "id": "07344d9c-3e21-44b3-8dd0-6cc7361f6ca6",
   "metadata": {},
   "outputs": [
    {
     "data": {
      "text/plain": [
       "0    HIGH\n",
       "1     LOW\n",
       "2     LOW\n",
       "3    HIGH\n",
       "4     LOW\n",
       "Name: rated, dtype: object"
      ]
     },
     "execution_count": 31,
     "metadata": {},
     "output_type": "execute_result"
    }
   ],
   "source": [
    "df = df[df['rated'] != 'DROP'].reset_index(drop=True)\n",
    "df['rated'].head()"
   ]
  },
  {
   "cell_type": "code",
   "execution_count": 9,
   "id": "8d627b5a-4026-4183-9f9c-e17f593a6214",
   "metadata": {},
   "outputs": [],
   "source": [
    "# normalizing to all lower case\n",
    "df['review'] = df['review'].str.lower()"
   ]
  },
  {
   "cell_type": "code",
   "execution_count": 40,
   "id": "d349b5f6-38ee-43b9-b450-c17c9f2d264e",
   "metadata": {},
   "outputs": [
    {
     "data": {
      "text/plain": [
       "0                                                                                                                                                                                                                                                                                                                                               [a, guilty, pleasure, for, me, personally, ,, as, i, love, both, ', the, great, escape, ', and, most, of, the, works, i, have, seen, ,, over, the, years, ,, from, this, rightfully-esteemed, british, animation, company, ., highly, recommended, both, for, children, and, for, adults, who, enjoy, animation, .]\n",
       "1    [the, first, underwhelmed, me, ,, but, this, one, straight-up, bored, me, ., again, ,, of, course, seeing, hunt, climb, a, mountain, without, a, harness, is, impressive, sure, ., and, i, even, quite, liked, the, idea, behind, the, villain, of, the, piece, (, though, even, that, angle, was, woefully, underdeveloped, ), ., even, setting, it, in, predominantly, australia, was, enough, to, grab, my, attention, ,, and, that's, saying, something, cause, i'm, pretty, biased, when, it, comes, to, that, ., i, hear, tell, that, _mission, :, impossible, ii_, is, the, low, point, in, the, series, ,, and, that, at, least, is, encouraging, ...]\n",
       "Name: tweet_token, dtype: object"
      ]
     },
     "execution_count": 40,
     "metadata": {},
     "output_type": "execute_result"
    }
   ],
   "source": [
    "# NLTK's Tweet Tokenization\n",
    "tweet_tokenizer = TweetTokenizer()\n",
    "df['tweet_token'] = pd.Series\n",
    "for i in range(len(df['review'])):\n",
    "    df['tweet_token'][i] = tweet_tokenizer.tokenize(df['review'][i])\n",
    "df['tweet_token'].head(2)"
   ]
  },
  {
   "cell_type": "code",
   "execution_count": 13,
   "id": "269141f5-78be-4a7c-8268-f0c306ca0fa1",
   "metadata": {},
   "outputs": [
    {
     "data": {
      "text/plain": [
       "['tok2vec', 'tagger', 'attribute_ruler', 'lemmatizer']"
      ]
     },
     "execution_count": 13,
     "metadata": {},
     "output_type": "execute_result"
    }
   ],
   "source": [
    "# loading in SpaCy NLP\n",
    "nlp_model = spacy.load('en_core_web_sm', disable=['parser','ner'])\n",
    "nlp_model.pipe_names"
   ]
  },
  {
   "cell_type": "code",
   "execution_count": 14,
   "id": "876a9807-b932-47d3-8aed-adcd23e45297",
   "metadata": {},
   "outputs": [
    {
     "name": "stdout",
     "output_type": "stream",
     "text": [
      "<class 'pandas.core.frame.DataFrame'>\n",
      "Int64Index: 2419 entries, 1 to 8647\n",
      "Data columns (total 9 columns):\n",
      " #   Column          Non-Null Count  Dtype  \n",
      "---  ------          --------------  -----  \n",
      " 0   review_id       2419 non-null   object \n",
      " 1   movie_id        2419 non-null   int64  \n",
      " 2   imdb_id         2419 non-null   object \n",
      " 3   original_title  2419 non-null   object \n",
      " 4   review          2419 non-null   object \n",
      " 5   rating          2419 non-null   float64\n",
      " 6   rated           2419 non-null   object \n",
      " 7   tokens          2419 non-null   object \n",
      " 8   spacy_lemmas    2419 non-null   object \n",
      "dtypes: float64(1), int64(1), object(7)\n",
      "memory usage: 189.0+ KB\n"
     ]
    }
   ],
   "source": [
    "# applying spacy_process to the text in new column\n",
    "df['spacy_lemmas'] = df['review'].apply(spacy_process)\n",
    "df.info()"
   ]
  },
  {
   "cell_type": "code",
   "execution_count": 19,
   "id": "ab2069dd-6c15-4755-8444-aa69aebbb49a",
   "metadata": {},
   "outputs": [
    {
     "data": {
      "text/plain": [
       "1                                                                                                                                                                                                                                           [guilty, pleasure, personally, love, great, escape, work, see, year, rightfully, esteem, british, animation, company, highly, recommend, child, adult, enjoy, animation]\n",
       "6    [underwhelme, straight, bore, course, see, hunt, climb, mountain, harness, impressive, sure, like, idea, villain, piece, angle, woefully, underdeveloped, set, predominantly, australia, grab, attention, say, cause, pretty, biased, come, hear, tell, mission, impossible, ii, low, point, series, encouraging, bad, know, able, rogue, nation, final, rating:, ★, ½, boring, disappointing, avoid, possible]\n",
       "Name: spacy_lemmas, dtype: object"
      ]
     },
     "execution_count": 19,
     "metadata": {},
     "output_type": "execute_result"
    }
   ],
   "source": [
    "df['spacy_lemmas'].head(2)"
   ]
  },
  {
   "cell_type": "code",
   "execution_count": 41,
   "id": "1e5adc52-75e2-4097-b120-a77195e6e642",
   "metadata": {},
   "outputs": [
    {
     "data": {
      "text/plain": [
       "0                                                                                                                                                                                                                                                                                                                                                                                                                                                                                              a guilty pleasure for me personally , as i love both ' the great escape ' and most of the works i have seen , over the years , from this rightfully-esteemed british animation company . highly recommended both for children and for adults who enjoy animation .\n",
       "1    the first underwhelmed me , but this one straight-up bored me . again , of course seeing hunt climb a mountain without a harness is impressive sure . and i even quite liked the idea behind the villain of the piece ( though even that angle was woefully underdeveloped ) . even setting it in predominantly australia was enough to grab my attention , and that's saying something cause i'm pretty biased when it comes to that . i hear tell that _mission : impossible ii_ is the low point in the series , and that at least is encouraging , because if anything afterwards is much worse than this one , i don't know if i'll be able to make it through to rogue nation . _final rating : ★ ½ : - boring / disappointing . avoid if possible . _\n",
       "Name: joined_token, dtype: object"
      ]
     },
     "execution_count": 41,
     "metadata": {},
     "output_type": "execute_result"
    }
   ],
   "source": [
    "# making a tweet token joined string column\n",
    "df['joined_token'] = pd.Series\n",
    "for i in range(len(df['tweet_token'])):\n",
    "    token = df['tweet_token'][i]\n",
    "    df['joined_token'][i] = ' '.join(token)\n",
    "df['joined_token'].head(2)"
   ]
  },
  {
   "cell_type": "code",
   "execution_count": 34,
   "id": "3fb8840c-8d1a-494a-bbd4-0d5c0629e08a",
   "metadata": {},
   "outputs": [
    {
     "data": {
      "text/plain": [
       "0                                                                                                                                                                                                             guilty pleasure personally love great escape work see year rightfully esteem british animation company highly recommend child adult enjoy animation\n",
       "1    underwhelme straight bore course see hunt climb mountain harness impressive sure like idea villain piece angle woefully underdeveloped set predominantly australia grab attention say cause pretty biased come hear tell mission impossible ii low point series encouraging bad know able rogue nation final rating: ★ ½ boring disappointing avoid possible\n",
       "Name: joined_lemmas, dtype: object"
      ]
     },
     "execution_count": 34,
     "metadata": {},
     "output_type": "execute_result"
    }
   ],
   "source": [
    "# making a lemmas joined string column\n",
    "df['joined_lemmas'] = pd.Series\n",
    "for i in range(len(df['spacy_lemmas'])):\n",
    "    token = df['spacy_lemmas'][i]\n",
    "    df['joined_lemmas'][i] = ' '.join(token)\n",
    "df['joined_lemmas'].head(2)"
   ]
  },
  {
   "cell_type": "code",
   "execution_count": null,
   "id": "bfc27fcc-e41b-457c-965b-695cc3853168",
   "metadata": {},
   "outputs": [],
   "source": []
  }
 ],
 "metadata": {
  "kernelspec": {
   "display_name": "Python (dojo-env)",
   "language": "python",
   "name": "dojo-env"
  },
  "language_info": {
   "codemirror_mode": {
    "name": "ipython",
    "version": 3
   },
   "file_extension": ".py",
   "mimetype": "text/x-python",
   "name": "python",
   "nbconvert_exporter": "python",
   "pygments_lexer": "ipython3",
   "version": "3.10.11"
  },
  "widgets": {
   "application/vnd.jupyter.widget-state+json": {
    "state": {},
    "version_major": 2,
    "version_minor": 0
   }
  }
 },
 "nbformat": 4,
 "nbformat_minor": 5
}
